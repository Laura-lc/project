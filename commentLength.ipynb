{
 "cells": [
  {
   "cell_type": "code",
   "execution_count": null,
   "metadata": {},
   "outputs": [],
   "source": [
    "#### remove punctuation and count the number of words as the comment length\n",
    "import os\n",
    "import numpy as np\n",
    "# convert a list to string\n",
    "def listToString(s):\n",
    "    str1 = \" \"     \n",
    "    return (str1.join(s)) \n",
    "\n",
    "g = os.walk(r\"path_of_your_projects\")  \n",
    "symbol_list = [',','.','!','>',':','\"',\"'\",'/','\\\\','#','$','{','}','(',')','-','@','*',' ','..']\n",
    "for path,dir_list,file_list in g:  \n",
    "    for dir_name in dir_list:\n",
    "        sum_len = 0\n",
    "        # locate to sub folder       \n",
    "        os.chdir(path+'/'+dir_name)\n",
    "        f = open('commitmessages.txt','r',encoding='UTF-8')            \n",
    "        fo = open(\"prasecommitmessages.txt\", \"w\",encoding='utf-8')                             \n",
    "        # store the lenght of the each message for a project\n",
    "        len_list = [] \n",
    "        line = f.readline()\n",
    "        while line:            \n",
    "            word_tokens = []            \n",
    "            line_split = line.split()\n",
    "            for i in line_split:\n",
    "                if i not in symbol_list:\n",
    "                    word_tokens.append(i)                        \n",
    "            # the comment len list,e.g. [5, 5, 3,10,1]\n",
    "            len_list.append(len(word_tokens))\n",
    "            sum_len = sum_len + len(word_tokens)             \n",
    "            fo.write(str(len(word_tokens))+' '+listToString(word_tokens))\n",
    "            fo.write(\"\\n\")                   \n",
    "            line = f.readline()            \n",
    "        fo.write('commitnumber '+str(len(len_list))+' ')\n",
    "        fo.write(\"\\n\")\n",
    "        fo.write('lengthmean '+str(np.mean(len_list))+' ')\n",
    "        fo.write(\"\\n\")\n",
    "        fo.write('lengthSD '+str(np.std(len_list))+' ')\n",
    "        f.close()\n",
    "        fo.close()"
   ]
  }
 ],
 "metadata": {
  "kernelspec": {
   "display_name": "Python 3",
   "language": "python",
   "name": "python3"
  },
  "language_info": {
   "codemirror_mode": {
    "name": "ipython",
    "version": 3
   },
   "file_extension": ".py",
   "mimetype": "text/x-python",
   "name": "python",
   "nbconvert_exporter": "python",
   "pygments_lexer": "ipython3",
   "version": "3.7.4"
  }
 },
 "nbformat": 4,
 "nbformat_minor": 2
}
