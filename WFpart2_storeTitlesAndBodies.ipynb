{
 "cells": [
  {
   "cell_type": "code",
   "execution_count": null,
   "metadata": {},
   "outputs": [],
   "source": [
    "# Acquire and store the titles and bodies for each project\n",
    "import os\n",
    "import re\n",
    "g = os.walk(r\"path_to_your_projects\")\n",
    "match_project_ID = 'predefine_projectId_for_each_project'\n",
    "projectID = ''\n",
    "for path,dir_list,file_list in g:  \n",
    "    for dir_name in dir_list:\n",
    "        \n",
    "        store_t = 'path_to_store_titles_for_each_project'\n",
    "        store_t_b = 'path_to_store_titlesAndBodies_for_each_project'\n",
    "        \n",
    "        os.chdir(path+'/'+dir_name)        \n",
    "        # matching the project id\n",
    "        for each_line in open(match_project_ID,'r'):\n",
    "            y = each_line.split()\n",
    "            if dir_name and dir_name == y[0]:\n",
    "                projectID = y[1]  \n",
    "        store_t += '/' + projectID + '.txt'\n",
    "        store_t_b += '/' + projectID + '.txt'\n",
    "        totalCommits = 0        \n",
    "        record_hash = []        \n",
    "        # open the formatted comment file of current project\n",
    "        f = open('formatFullCommitMessages.txt','r',encoding='UTF-8')         \n",
    "        f1 = open(store_t,'w',encoding='UTF-8') \n",
    "        f2 = open(store_t_b,'w',encoding='UTF-8')         \n",
    "        line = f.readline()\n",
    "        while line:\n",
    "            if line.startswith('CommitHash:') == True:\n",
    "                totalCommits += 1\n",
    "                commitInfoList = re.split('CommitHash:|AuthorDate:|SubjectTitleLine:|BodyMessage:',line)\n",
    "                \n",
    "                if len(commitInfoList[3].strip()) != 0:\n",
    "                    f1.write(commitInfoList[3])\n",
    "                    f1.write('\\n')                    \n",
    "                    f2.write(commitInfoList[3])\n",
    "                    f2.write(commitInfoList[4])\n",
    "                    # just for record\n",
    "                    if len(commitInfoList[4].strip()) != 0:\n",
    "                        record_hash.append(commitInfoList[1])\n",
    "            line = f.readline()            \n",
    "        print(projectID,dir_name,'totalCommit',totalCommits,'commitHaveBothBodyAndTitle',len(record_hash))            \n",
    "        f.close()\n",
    "        f1.close()\n",
    "        f2.close()"
   ]
  }
 ],
 "metadata": {
  "kernelspec": {
   "display_name": "Python 3",
   "language": "python",
   "name": "python3"
  },
  "language_info": {
   "codemirror_mode": {
    "name": "ipython",
    "version": 3
   },
   "file_extension": ".py",
   "mimetype": "text/x-python",
   "name": "python",
   "nbconvert_exporter": "python",
   "pygments_lexer": "ipython3",
   "version": "3.7.4"
  }
 },
 "nbformat": 4,
 "nbformat_minor": 2
}
