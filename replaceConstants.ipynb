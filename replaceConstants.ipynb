{
 "cells": [
  {
   "cell_type": "code",
   "execution_count": null,
   "metadata": {},
   "outputs": [],
   "source": [
    "# Replacing the CONSTANT names for all (four) languages projects\n",
    "import re \n",
    "p = '[A-Z]+([_][A-Z]+)+'\n",
    "dobule_colons = '::'\n",
    "inclined_rod = '/'\n",
    "bracketsMM = '()'\n",
    "linkM = 'http'\n",
    "constant_name_list=[] \n",
    "\n",
    "fo = open(path_for_store,\"w\", encoding=\"utf-8\")\n",
    "for each_line in open(path_of_comments,'r',encoding=\"utf-8\"):\n",
    "    y = each_line.split()\n",
    "    for idx, i in enumerate(y):\n",
    "        v = re.match(p,i,flags=0)\n",
    "        i.replace(' ','')\n",
    "        if i.find(inclined_rod) == -1 and i.find(bracketsMM) == -1 and i.find(linkM) == -1 and i.find(dobule_colons) == -1:           \n",
    "            if i != 'FILE' and i != 'FUNCTION' and i != 'VARIABLE' and i != 'BUG_NUMBER':\n",
    "                if v != None:\n",
    "                    constant_name_list.append(i)\n",
    "                    each_line = each_line.replace(i,'CONSTANT')\n",
    "    fo.write(each_line)\n",
    "fo.close()"
   ]
  }
 ],
 "metadata": {
  "kernelspec": {
   "display_name": "Python 3",
   "language": "python",
   "name": "python3"
  },
  "language_info": {
   "codemirror_mode": {
    "name": "ipython",
    "version": 3
   },
   "file_extension": ".py",
   "mimetype": "text/x-python",
   "name": "python",
   "nbconvert_exporter": "python",
   "pygments_lexer": "ipython3",
   "version": "3.7.4"
  }
 },
 "nbformat": 4,
 "nbformat_minor": 2
}
