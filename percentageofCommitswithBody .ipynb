{
 "cells": [
  {
   "cell_type": "code",
   "execution_count": null,
   "metadata": {},
   "outputs": [],
   "source": [
    "#  Percentage of Commits with Body \n",
    "import os\n",
    "import re\n",
    "g = os.walk(r\"path_to_your_projects\")\n",
    "# match_project_ID - i.e. a set of projectName : projectID in a txt file\n",
    "# just for converting the project name to project ID\n",
    "match_project_ID = 'predefine_projectId_for_each_project'   \n",
    "projectID = ''\n",
    "\n",
    "for path,dir_list,file_list in g:  \n",
    "    for dir_name in dir_list:\n",
    "        os.chdir(path+'/'+dir_name)        \n",
    "        # matching the project id\n",
    "        for each_line in open(match_project_ID,'r'):\n",
    "            y = each_line.split()\n",
    "            if dir_name and dir_name == y[0]:\n",
    "                projectID = y[1]               \n",
    "        # record the hashs of the commit that have both Body And Title\n",
    "        record_hash = []\n",
    "        totalCommits = 0         \n",
    "        # open the formatted comments of the current project\n",
    "        f = open('formatFullCommitMessages.txt','r',encoding='UTF-8')         \n",
    "        line = f.readline()\n",
    "        while line:\n",
    "            if line.startswith('CommitHash:') == True:\n",
    "                totalCommits += 1\n",
    "                commitInfoList = re.split('CommitHash:|AuthorDate:|SubjectTitleLine:|BodyMessage:',line)\n",
    "                \n",
    "                if len(commitInfoList[3].strip()) != 0 and len(commitInfoList[4].strip()) != 0:\n",
    "                    record_hash.append(commitInfoList[1])\n",
    "            line = f.readline()            \n",
    "        print(projectID,dir_name,'totalCommit',totalCommits,'commitHaveBothBodyAndTitle',len(record_hash),'Percentage',len(record_hash)/totalCommits)            \n",
    "        f.close()"
   ]
  }
 ],
 "metadata": {
  "kernelspec": {
   "display_name": "Python 3",
   "language": "python",
   "name": "python3"
  },
  "language_info": {
   "codemirror_mode": {
    "name": "ipython",
    "version": 3
   },
   "file_extension": ".py",
   "mimetype": "text/x-python",
   "name": "python",
   "nbconvert_exporter": "python",
   "pygments_lexer": "ipython3",
   "version": "3.7.4"
  }
 },
 "nbformat": 4,
 "nbformat_minor": 2
}
