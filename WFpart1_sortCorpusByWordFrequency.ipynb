{
 "cells": [
  {
   "cell_type": "code",
   "execution_count": null,
   "metadata": {},
   "outputs": [],
   "source": [
    "# Sort the corpus by word frequency\n",
    "import json\n",
    "orgin_corpus = 'path_to_the_original_corpus'\n",
    "sorted_corpus = 'path_for_store_the_sorted_corpus'\n",
    "\n",
    "fo = open(orgin_corpus,\"r\",encoding=\"utf-8\") \n",
    "word_data = json.load(fo)\n",
    "print('orgin_corpus',type(word_data),len(word_data))\n",
    "\n",
    "# sort the dict based on the values\n",
    "sort_word_data = sorted(word_data.items(), key=lambda x: x[1], reverse=True)\n",
    "# store in a list in order\n",
    "sort_word_data_list = []\n",
    "f1 = open(sorted_corpus,\"w\",encoding=\"utf-8\") \n",
    "for index, each_w in enumerate(sort_word_data):\n",
    "    tuple_to_list = list(each_w)  \n",
    "    sort_word_data_list.append(tuple_to_list)\n",
    "\n",
    "# sort the word according to the word count\n",
    "cur_rank = 1\n",
    "for w_1, w_2 in zip(sort_word_data_list, sort_word_data_list[1:]):\n",
    "    s1 = ''\n",
    "    s2 = '' \n",
    "    if cur_rank == 1:\n",
    "        s1 = str(w_1[0]) + ' : ' + str(w_1[1]) + ' : ' + str(cur_rank)\n",
    "        f1.write(s1)\n",
    "        f1.write('\\n')\n",
    "    # handle tie\n",
    "    if w_1[1] != w_2[1]:\n",
    "        s2 = str(w_2[0]) + ' : ' + str(w_2[1]) + ' : ' + str(cur_rank+1)\n",
    "        f1.write(s2)\n",
    "        f1.write('\\n')\n",
    "    else:\n",
    "        s2 = str(w_2[0]) + ' : ' + str(w_2[1]) + ' : ' + str(cur_rank)\n",
    "        f1.write(s2)\n",
    "        f1.write('\\n')\n",
    "        cur_rank -= 1        \n",
    "    cur_rank += 1    \n",
    "fo.close()\n",
    "f1.close()"
   ]
  }
 ],
 "metadata": {
  "kernelspec": {
   "display_name": "Python 3",
   "language": "python",
   "name": "python3"
  },
  "language_info": {
   "codemirror_mode": {
    "name": "ipython",
    "version": 3
   },
   "file_extension": ".py",
   "mimetype": "text/x-python",
   "name": "python",
   "nbconvert_exporter": "python",
   "pygments_lexer": "ipython3",
   "version": "3.7.4"
  }
 },
 "nbformat": 4,
 "nbformat_minor": 2
}
