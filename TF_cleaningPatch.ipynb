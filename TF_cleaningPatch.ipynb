{
 "cells": [
  {
   "cell_type": "code",
   "execution_count": null,
   "metadata": {},
   "outputs": [],
   "source": [
    "# Analyze the patch output to create a diff file for each project\n",
    "import re  \n",
    "import os\n",
    "import pandas as pd\n",
    "match_project_ID = 'file_of_predefine_projectId_for_each_project'\n",
    "patch_output_file = 'path_to_the_patch_output'\n",
    "diffs_extracted_store = 'path_for_store_the_code_diffs'     \n",
    "\n",
    "p = \"(^Date:)(\\s*)(Mon|Thu|Tue|Wed|Fri|Sat|Sun)(.+)\"\n",
    "files= os.listdir(patch_output_file) \n",
    "file_name = []\n",
    "store_file_name = ''\n",
    "\n",
    "for file in files: \n",
    "    count = 0\n",
    "    if not os.path.isdir(file): \n",
    "        f = open(patch_output_file+\"/\"+file,'rb'); \n",
    "        file_name = file.split('.tx')\n",
    "\n",
    "        # matching the project id\n",
    "        for each_line in open(match_project_ID,'r'):\n",
    "            y = each_line.split()\n",
    "            if file_name[0] and file_name[0] == y[0]:\n",
    "                store_file_name = y[1]             \n",
    "                \n",
    "        store_file_name = store_file_name.replace(' ','')\n",
    "        print(store_file_name,file_name[0])          \n",
    "        iter_f = iter(f); \n",
    "        str = \"\"\n",
    "        for line in iter_f:                    \n",
    "            if type(line) == bytes:\n",
    "                line = line.decode(errors='ignore')\n",
    "                \n",
    "            match_date = re.match(p,line,flags=0) \n",
    "            if match_date != None: \n",
    "                str = str + line                      \n",
    "            elif line.startswith('@@') == True or line.startswith('-') == True or line.startswith('+') == True:\n",
    "                # transform all lines into a \"canonical\" form\n",
    "                # removing tabs and spaces and converting everything to lower case.\n",
    "                line = line.replace(' ','')\n",
    "                line = line.lower()\n",
    "                if len(line) != 2:\n",
    "                    str = str + line\n",
    "        fo = open(diffs_extracted_store+'/'+store_file_name+'.txt',\"w\",encoding=\"utf-8\")\n",
    "        fo.write(str)\n",
    "        fo.close()"
   ]
  },
  {
   "cell_type": "code",
   "execution_count": null,
   "metadata": {},
   "outputs": [],
   "source": []
  }
 ],
 "metadata": {
  "kernelspec": {
   "display_name": "Python 3",
   "language": "python",
   "name": "python3"
  },
  "language_info": {
   "codemirror_mode": {
    "name": "ipython",
    "version": 3
   },
   "file_extension": ".py",
   "mimetype": "text/x-python",
   "name": "python",
   "nbconvert_exporter": "python",
   "pygments_lexer": "ipython3",
   "version": "3.7.4"
  }
 },
 "nbformat": 4,
 "nbformat_minor": 2
}
