{
 "cells": [
  {
   "cell_type": "code",
   "execution_count": null,
   "metadata": {},
   "outputs": [],
   "source": [
    "# format the comment body messages\n",
    "import os\n",
    "import re \n",
    "g = os.walk(r\"path_to_your_projects\")\n",
    "match_project_ID = 'predefine_projectId_for_each_project'\n",
    "projectID = ''\n",
    "\n",
    "for path,dir_list,file_list in g:   \n",
    "    for dir_name in dir_list: \n",
    "        totalCommits = 0\n",
    "        # matching the project id\n",
    "        for each_line in open(match_project_ID,'r'):\n",
    "            y = each_line.split()\n",
    "            if dir_name and dir_name == y[0]:\n",
    "                projectID = y[1]       \n",
    "        os.chdir(path+'/'+dir_name)\n",
    "        # open the comment file of current project\n",
    "        # and format the comments, e.g. remove the empty lines, etc.\n",
    "        f = open('fullCommitMessages.txt','r',encoding='UTF-8')\n",
    "        f1 = open('formatFullCommitMessages.txt','w',encoding='UTF-8')        \n",
    "        formatEachCommit = ''\n",
    "        line = f.readline()\n",
    "        while line:\n",
    "            if len(line) == 0:\n",
    "                continue\n",
    "            else:\n",
    "                if line.startswith('CommitHash:') == True:\n",
    "                    formatEachCommit += 'A_delimiter_defined_by_you'\n",
    "                    totalCommits += 1\n",
    "                formatEachCommit += line.replace('\\n',' ')                                   \n",
    "            line = f.readline()   \n",
    "            \n",
    "        commitList = formatEachCommit.split('A_delimiter_defined_by_you')        \n",
    "        for i in commitList:\n",
    "            if len(i) != 0:\n",
    "                f1.write(i)\n",
    "                f1.write('\\n')\n",
    "        print(projectID,dir_name,'TotalCommit',totalCommits)\n",
    "        f.close()\n",
    "        f1.close()"
   ]
  }
 ],
 "metadata": {
  "kernelspec": {
   "display_name": "Python 3",
   "language": "python",
   "name": "python3"
  },
  "language_info": {
   "codemirror_mode": {
    "name": "ipython",
    "version": 3
   },
   "file_extension": ".py",
   "mimetype": "text/x-python",
   "name": "python",
   "nbconvert_exporter": "python",
   "pygments_lexer": "ipython3",
   "version": "3.7.4"
  }
 },
 "nbformat": 4,
 "nbformat_minor": 2
}
