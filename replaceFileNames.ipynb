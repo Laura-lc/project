{
 "cells": [
  {
   "cell_type": "code",
   "execution_count": null,
   "metadata": {},
   "outputs": [],
   "source": [
    "# Replacing the file names for all (four) languages projects\n",
    "import re  \n",
    "p1 = '[a-z][a-z1-9]+([A-Z][a-z1-9]+)+' # camelCase \n",
    "p2 = '[A-Z][a-z1-9]+([A-Z][a-z1-9]+)+' # Pascal Case\n",
    "\n",
    "exclude_list = ['Integer.MAX','Window.Type','XmlElement.DEFAULT','XPathType.Filter','XmlElementDecl.GLOBAL','SpringLayout.Constraints','CHANGES.md','CHANGELOG.md']\n",
    "# . Prefix\n",
    "prefix_exclude_list = ['Readme','readme','README','CONTRIBUTING','contributing','configure', 'config','CONTRIBUTORS','datatables']\n",
    "# . suffix\n",
    "suffix_exclude_list = ['properties','com']\n",
    "\n",
    "name_list=[]\n",
    "fo = open(path_for_store,\"w\",encoding=\"utf-8\")\n",
    "for each_line in open(path_of_comment,'r',encoding=\"utf-8\"):\n",
    "    y = each_line.split()\n",
    "    dotM = '.'\n",
    "    linkM = 'http'\n",
    "    bracketM = '('\n",
    "    underM = '_'\n",
    "    dobule_under = '__'\n",
    "    _colons = ':'\n",
    "    for i in y:     \n",
    "        # There is a \".\"\n",
    "        if dotM in i and i.find(linkM) == -1 and i.find(bracketM) == -1:\n",
    "            _exclude_ = i in exclude_list        \n",
    "            if _exclude_ == False:\n",
    "                i_list = i.split('.')\n",
    "                # not replace README and CONTRIBUTING references\n",
    "                _exclude_prefix = i_list[0] in prefix_exclude_list\n",
    "                \n",
    "                if _exclude_prefix == False:\n",
    "                    # not all digit                  \n",
    "                    if i_list[0].isdigit() == False and i_list[1] != \"\" and i_list[1].isdigit() == False:               \n",
    "                        # not contain underscore_ \n",
    "                        if i_list[1].find(underM) == -1 and i_list[1].find(dobule_under) == -1 and i_list[1].find(_colons) == -1:\n",
    "                            # suffix excluded\n",
    "                            _exclude_suffix = i_list[1] in suffix_exclude_list\n",
    "                            if _exclude_suffix == False:                                \n",
    "                                validate1 = re.match(p1,i_list[1],flags=0)\n",
    "                                validate2 = re.match(p2,i_list[1],flags=0)              \n",
    "                                #  Exclude p1 and p2 cases\n",
    "                                if validate1 == None and validate2 == None: \n",
    "                                    name_list.append(i)   \n",
    "                                    each_line = each_line.replace(i,'FILE')\n",
    "    fo.write(each_line)\n",
    "fo.close()"
   ]
  }
 ],
 "metadata": {
  "kernelspec": {
   "display_name": "Python 3",
   "language": "python",
   "name": "python3"
  },
  "language_info": {
   "codemirror_mode": {
    "name": "ipython",
    "version": 3
   },
   "file_extension": ".py",
   "mimetype": "text/x-python",
   "name": "python",
   "nbconvert_exporter": "python",
   "pygments_lexer": "ipython3",
   "version": "3.7.4"
  }
 },
 "nbformat": 4,
 "nbformat_minor": 2
}
